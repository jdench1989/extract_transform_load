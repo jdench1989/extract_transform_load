{
 "cells": [
  {
   "cell_type": "code",
   "execution_count": 4,
   "metadata": {},
   "outputs": [],
   "source": [
    "import requests\n",
    "from psycopg2 import connect, sql\n",
    "\n",
    "# Configure your PostgreSQL connection string\n",
    "conn_string = \"dbname='etl_bites' user='jackdench' host='localhost' port='5432'\"\n",
    "\n",
    "def get_data_from_api(url):\n",
    "    response = requests.get(url)\n",
    "    return response.json()\n",
    "\n",
    "todos_url = \"https://jsonplaceholder.typicode.com/todos\"\n",
    "users_url = \"https://jsonplaceholder.typicode.com/users\"\n",
    "\n",
    "todos_data = get_data_from_api(todos_url)\n",
    "users_data = get_data_from_api(users_url)\n"
   ]
  },
  {
   "cell_type": "code",
   "execution_count": 5,
   "metadata": {},
   "outputs": [
    {
     "name": "stdout",
     "output_type": "stream",
     "text": [
      "[{'userId': 1, 'name': 'Leanne Graham', 'completedTasks': 11}, {'userId': 2, 'name': 'Ervin Howell', 'completedTasks': 8}, {'userId': 3, 'name': 'Clementine Bauch', 'completedTasks': 7}, {'userId': 4, 'name': 'Patricia Lebsack', 'completedTasks': 6}, {'userId': 5, 'name': 'Chelsey Dietrich', 'completedTasks': 12}, {'userId': 6, 'name': 'Mrs. Dennis Schulist', 'completedTasks': 6}, {'userId': 7, 'name': 'Kurtis Weissnat', 'completedTasks': 9}, {'userId': 8, 'name': 'Nicholas Runolfsdottir V', 'completedTasks': 11}, {'userId': 9, 'name': 'Glenna Reichert', 'completedTasks': 8}, {'userId': 10, 'name': 'Clementina DuBuque', 'completedTasks': 12}]\n"
     ]
    }
   ],
   "source": [
    "def join_todos_and_users(todos, users):\n",
    "    completed_tasks = {}\n",
    "    for todo in todos:\n",
    "        user_id = todo['userId']\n",
    "        if user_id not in completed_tasks:\n",
    "            completed_tasks[user_id] = 0\n",
    "        if todo['completed']:\n",
    "            completed_tasks[user_id] +=1\n",
    "    result = []\n",
    "    for user in users:\n",
    "        result.append({'userId': user['id'], 'name': user['name'], 'completedTasks': completed_tasks[user['id']]})\n",
    "    \n",
    "    return result\n",
    "\n",
    "combined_data = join_todos_and_users(todos_data, users_data)\n",
    "print(combined_data)"
   ]
  },
  {
   "cell_type": "code",
   "execution_count": 6,
   "metadata": {},
   "outputs": [],
   "source": [
    "# Create tables in analytical DB\n",
    "# This could also be done manually via a GUI (e.g. TablePlus) or with a SQL script\n",
    "def execute_query_postgresql(conn_string, query):\n",
    "    with connect(conn_string) as conn:\n",
    "        with conn.cursor() as cur:\n",
    "            cur.execute(query)\n",
    "            conn.commit()\n",
    "\n",
    "create_api_data_table = '''\n",
    "CREATE TABLE api_data_2 (\n",
    "    userId INTEGER,\n",
    "    name TEXT,\n",
    "    completedTasks INTEGER\n",
    ");\n",
    "'''\n",
    "\n",
    "execute_query_postgresql(conn_string, create_api_data_table)"
   ]
  },
  {
   "cell_type": "code",
   "execution_count": 7,
   "metadata": {},
   "outputs": [],
   "source": [
    "def insert_data_to_postgresql(conn_string, table_name, data):\n",
    "    with connect(conn_string) as conn:\n",
    "        with conn.cursor() as cur:\n",
    "            for item in data:\n",
    "                query = sql.SQL(\"INSERT INTO {} (userId, name, completedTasks) VALUES (%s, %s, %s)\").format(sql.Identifier(table_name))\n",
    "                cur.execute(query, (item['userId'], item['name'], item['completedTasks']))\n",
    "        conn.commit()\n",
    "\n",
    "table_name = \"api_data_2\"\n",
    "insert_data_to_postgresql(conn_string, table_name, combined_data)"
   ]
  }
 ],
 "metadata": {
  "kernelspec": {
   "display_name": "pandas_jupyter_venv",
   "language": "python",
   "name": "python3"
  },
  "language_info": {
   "codemirror_mode": {
    "name": "ipython",
    "version": 3
   },
   "file_extension": ".py",
   "mimetype": "text/x-python",
   "name": "python",
   "nbconvert_exporter": "python",
   "pygments_lexer": "ipython3",
   "version": "3.11.6"
  }
 },
 "nbformat": 4,
 "nbformat_minor": 2
}
