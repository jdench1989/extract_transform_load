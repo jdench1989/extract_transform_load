{
 "cells": [
  {
   "cell_type": "markdown",
   "metadata": {},
   "source": [
    "## Exercise\n",
    "\n",
    "Find the top 5 countries with the highest number of Safari users in 2017 (from\n",
    "2017-01-01 until 2017-12-31).\n",
    "\n",
    "For the data about the browser, we are going to assume the right column\n",
    "is `server_request_browser`."
   ]
  },
  {
   "cell_type": "code",
   "execution_count": 35,
   "metadata": {},
   "outputs": [],
   "source": [
    "import boto3\n",
    "import time\n",
    "import psycopg2\n",
    "from dotenv import load_dotenv\n",
    "import os\n",
    "\n",
    "load_dotenv()\n",
    "\n",
    "AWS_ACCESS_KEY = os.getenv('ACCESS_KEY')\n",
    "AWS_SECRET_KEY = os.getenv('SECRET_ACCESS_KEY')"
   ]
  },
  {
   "cell_type": "code",
   "execution_count": 39,
   "metadata": {},
   "outputs": [],
   "source": [
    "# Set up the Athena client\n",
    "athena_client = boto3.client(\n",
    "    'athena',\n",
    "    region_name='eu-west-2',\n",
    "    aws_access_key_id=AWS_ACCESS_KEY,\n",
    "    aws_secret_access_key=AWS_SECRET_KEY)\n",
    "\n",
    "# Write the SQL query\n",
    "sql_query = \"\"\"\n",
    "    SELECT server_request_country_code, COUNT(*) as total_safari_users\n",
    "    FROM vod_clickstream\n",
    "    WHERE datetime >= CAST('2017-01-01' AS timestamp) AND datetime < CAST('2018-01-01' AS timestamp)\n",
    "          AND server_request_browser = 'Safari'\n",
    "    GROUP BY server_request_country_code\n",
    "    ORDER BY total_safari_users DESC\n",
    "    LIMIT 5;\n",
    "\"\"\"\n",
    "\n",
    "\n",
    "# Execute the Athena query\n",
    "query_execution = athena_client.start_query_execution(\n",
    "    QueryString=sql_query,\n",
    "    QueryExecutionContext={\n",
    "        \"Database\": \"jack-athena-parquet\"\n",
    "    },\n",
    "    ResultConfiguration={\n",
    "        \"OutputLocation\": \"s3://athena-learners-etl-bite05/jack\" # <= This will be different for you, refer to the Amazon Athena pill for more information.\n",
    "    }\n",
    ")\n",
    "\n",
    "# Poll the query status until it is either successful or failed\n",
    "query_status = \"QUEUED\"\n",
    "query_execution_id = query_execution[\"QueryExecutionId\"]\n",
    "\n",
    "while query_status in [\"QUEUED\", \"RUNNING\"]:\n",
    "    query_execution = athena_client.get_query_execution(\n",
    "        QueryExecutionId=query_execution_id\n",
    "    )\n",
    "    query_status = query_execution[\"QueryExecution\"][\"Status\"][\"State\"]\n",
    "    if query_status == \"FAILED\":\n",
    "        raise Exception(\"Athena query failed!\")\n",
    "    time.sleep(1)\n",
    "\n",
    "# Retrieve the query results\n",
    "results = athena_client.get_query_results(\n",
    "    QueryExecutionId=query_execution_id\n",
    ")[\"ResultSet\"][\"Rows\"]"
   ]
  },
  {
   "cell_type": "code",
   "execution_count": 41,
   "metadata": {},
   "outputs": [
    {
     "data": {
      "text/plain": [
       "[{'Data': [{'VarCharValue': 'server_request_country_code'},\n",
       "   {'VarCharValue': 'total_safari_users'}]},\n",
       " {'Data': [{'VarCharValue': 'BR'}, {'VarCharValue': '504'}]},\n",
       " {'Data': [{'VarCharValue': 'US'}, {'VarCharValue': '137'}]},\n",
       " {'Data': [{'VarCharValue': 'NG'}, {'VarCharValue': '43'}]},\n",
       " {'Data': [{'VarCharValue': 'ES'}, {'VarCharValue': '42'}]},\n",
       " {'Data': [{'VarCharValue': 'IN'}, {'VarCharValue': '27'}]}]"
      ]
     },
     "execution_count": 41,
     "metadata": {},
     "output_type": "execute_result"
    }
   ],
   "source": [
    "results"
   ]
  },
  {
   "cell_type": "code",
   "execution_count": 45,
   "metadata": {},
   "outputs": [],
   "source": [
    "# Connect to the local Postgres database\n",
    "conn = psycopg2.connect(database=\"etl_bites\", user=\"jackdench\", host=\"localhost\", port=\"5432\")\n",
    "cursor = conn.cursor()\n",
    "\n",
    "# Create the table if it doesn't exist\n",
    "cursor.execute(\"\"\"\n",
    "    CREATE TABLE IF NOT EXISTS top_5_safari_users (\n",
    "        country_code VARCHAR(2) PRIMARY KEY,\n",
    "        safari_users INTEGER\n",
    "    );\n",
    "\"\"\")\n",
    "            \n",
    "# Process the query results\n",
    "\n",
    "for row in results[1:]:\n",
    "    if not row[\"Data\"][0] or not row[\"Data\"][1]:\n",
    "        # You could also print what a `row` has if you are curious!\n",
    "        print(f\"Skipping row: {row}\")\n",
    "        continue\n",
    "\n",
    "    country_code = row[\"Data\"][0][\"VarCharValue\"]\n",
    "    safari_users = int(row[\"Data\"][1][\"VarCharValue\"])\n",
    "\n",
    "    # Insert the data into the local PostgreSQL database\n",
    "    insert_query = \"\"\"\n",
    "        INSERT INTO top_5_safari_users (country_code, safari_users)\n",
    "        VALUES (%s, %s)\n",
    "        ON CONFLICT (country_code)\n",
    "        DO UPDATE SET safari_users = EXCLUDED.safari_users;\n",
    "    \"\"\"\n",
    "\n",
    "    try:\n",
    "        cursor.execute(insert_query, (country_code, safari_users))\n",
    "        \n",
    "    except Exception as e:\n",
    "        print(\"Error occurred inserting into analytical DB: %s\"% e)\n",
    "        conn.rollback()  # Rollback the transaction if there's an error\n",
    "\n",
    "# Commit the changes and close the cursor and connection outside the loop\n",
    "conn.commit()\n",
    "cursor.close()\n",
    "conn.close()"
   ]
  }
 ],
 "metadata": {
  "kernelspec": {
   "display_name": "etl_bites_venv",
   "language": "python",
   "name": "python3"
  },
  "language_info": {
   "codemirror_mode": {
    "name": "ipython",
    "version": 3
   },
   "file_extension": ".py",
   "mimetype": "text/x-python",
   "name": "python",
   "nbconvert_exporter": "python",
   "pygments_lexer": "ipython3",
   "version": "3.11.6"
  }
 },
 "nbformat": 4,
 "nbformat_minor": 2
}
