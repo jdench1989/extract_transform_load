{
 "cells": [
  {
   "cell_type": "markdown",
   "metadata": {},
   "source": [
    "# Exercise\n",
    "Calculate the total number of bookings for each facility."
   ]
  },
  {
   "cell_type": "code",
   "execution_count": 27,
   "metadata": {},
   "outputs": [],
   "source": [
    "import psycopg2\n",
    "import pandas as pd\n",
    "\n",
    "# The connection details (user, password, host) below are placeholders.\n",
    "# Your coach will provide you with the actual connection details for your exercises.\n",
    "\n",
    "conn_params = {\n",
    "    'host': 'etl-relational-database.cfmnnswnfhpn.eu-west-2.rds.amazonaws.com',\n",
    "    'dbname': 'postgres',\n",
    "    'user': 'readonly_user',\n",
    "    'password': 'you-can-only-read'\n",
    "}"
   ]
  },
  {
   "cell_type": "code",
   "execution_count": 28,
   "metadata": {},
   "outputs": [],
   "source": [
    "def fetch_data(query):\n",
    "    with psycopg2.connect(**conn_params) as conn:\n",
    "        with conn.cursor() as cur:\n",
    "            cur.execute(query)\n",
    "            data = cur.fetchall()\n",
    "            colnames = [desc[0] for desc in cur.description]\n",
    "    return data, colnames"
   ]
  },
  {
   "cell_type": "code",
   "execution_count": 29,
   "metadata": {},
   "outputs": [
    {
     "data": {
      "text/html": [
       "<div>\n",
       "<style scoped>\n",
       "    .dataframe tbody tr th:only-of-type {\n",
       "        vertical-align: middle;\n",
       "    }\n",
       "\n",
       "    .dataframe tbody tr th {\n",
       "        vertical-align: top;\n",
       "    }\n",
       "\n",
       "    .dataframe thead th {\n",
       "        text-align: right;\n",
       "    }\n",
       "</style>\n",
       "<table border=\"1\" class=\"dataframe\">\n",
       "  <thead>\n",
       "    <tr style=\"text-align: right;\">\n",
       "      <th></th>\n",
       "      <th>facid</th>\n",
       "      <th>name</th>\n",
       "      <th>total_bookings</th>\n",
       "    </tr>\n",
       "  </thead>\n",
       "  <tbody>\n",
       "    <tr>\n",
       "      <th>0</th>\n",
       "      <td>0</td>\n",
       "      <td>Tennis Court 1</td>\n",
       "      <td>408</td>\n",
       "    </tr>\n",
       "    <tr>\n",
       "      <th>1</th>\n",
       "      <td>1</td>\n",
       "      <td>Tennis Court 2</td>\n",
       "      <td>389</td>\n",
       "    </tr>\n",
       "    <tr>\n",
       "      <th>2</th>\n",
       "      <td>2</td>\n",
       "      <td>Badminton Court</td>\n",
       "      <td>383</td>\n",
       "    </tr>\n",
       "    <tr>\n",
       "      <th>3</th>\n",
       "      <td>3</td>\n",
       "      <td>Table Tennis</td>\n",
       "      <td>403</td>\n",
       "    </tr>\n",
       "    <tr>\n",
       "      <th>4</th>\n",
       "      <td>4</td>\n",
       "      <td>Massage Room 1</td>\n",
       "      <td>629</td>\n",
       "    </tr>\n",
       "    <tr>\n",
       "      <th>5</th>\n",
       "      <td>5</td>\n",
       "      <td>Massage Room 2</td>\n",
       "      <td>111</td>\n",
       "    </tr>\n",
       "    <tr>\n",
       "      <th>6</th>\n",
       "      <td>6</td>\n",
       "      <td>Squash Court</td>\n",
       "      <td>440</td>\n",
       "    </tr>\n",
       "    <tr>\n",
       "      <th>7</th>\n",
       "      <td>7</td>\n",
       "      <td>Snooker Table</td>\n",
       "      <td>444</td>\n",
       "    </tr>\n",
       "    <tr>\n",
       "      <th>8</th>\n",
       "      <td>8</td>\n",
       "      <td>Pool Table</td>\n",
       "      <td>837</td>\n",
       "    </tr>\n",
       "  </tbody>\n",
       "</table>\n",
       "</div>"
      ],
      "text/plain": [
       "   facid             name  total_bookings\n",
       "0      0   Tennis Court 1             408\n",
       "1      1   Tennis Court 2             389\n",
       "2      2  Badminton Court             383\n",
       "3      3     Table Tennis             403\n",
       "4      4   Massage Room 1             629\n",
       "5      5   Massage Room 2             111\n",
       "6      6     Squash Court             440\n",
       "7      7    Snooker Table             444\n",
       "8      8       Pool Table             837"
      ]
     },
     "execution_count": 29,
     "metadata": {},
     "output_type": "execute_result"
    }
   ],
   "source": [
    "# Extract bookings data\n",
    "query = \"SELECT b.facid, f.name, COUNT(b.facid) as total_bookings FROM bookings b JOIN facilities f ON b.facid = f.facid GROUP BY b.facid, f.name ORDER BY b.facid;\"\n",
    "bookings_data, colnames = fetch_data(query)\n",
    "bookings_df = pd.DataFrame(bookings_data, columns=colnames)\n",
    "bookings_df"
   ]
  },
  {
   "cell_type": "code",
   "execution_count": 30,
   "metadata": {},
   "outputs": [],
   "source": [
    "def execute_query_postgresql(conn_string, query):\n",
    "    with psycopg2.connect(conn_string) as conn:\n",
    "        with conn.cursor() as cur:\n",
    "            cur.execute(query)\n",
    "            conn.commit()\n",
    "\n",
    "# Define the connection string for your analytical database\n",
    "etl_bites_conn_string = \"dbname='etl_bites' user='jackdench' host='localhost' port='5432'\"\n",
    "\n",
    "# SQL query to create a new table for storing total booking duration per facility\n",
    "create_total_bookings_table = '''\n",
    "CREATE TABLE total_bookings (\n",
    "    FacilityID INTEGER NOT NULL,\n",
    "    FacilityName TEXT,\n",
    "    NumberOfBookings INTEGER\n",
    ");\n",
    "'''\n",
    "\n",
    "# Execute the query to create the table\n",
    "execute_query_postgresql(etl_bites_conn_string, create_total_bookings_table)"
   ]
  },
  {
   "cell_type": "code",
   "execution_count": 31,
   "metadata": {},
   "outputs": [],
   "source": [
    "def insert_data(conn_string, table_name, data, columns):\n",
    "    with psycopg2.connect(conn_string) as conn:\n",
    "        with conn.cursor() as cur:\n",
    "            for row in data.itertuples(index=False):\n",
    "                insert_query = f\"INSERT INTO {table_name} ({', '.join(columns)}) VALUES ({', '.join(['%s'] * len(columns))});\"\n",
    "                cur.execute(insert_query, row)\n",
    "            conn.commit()\n",
    "\n",
    "# Insert the transformed data into the analytical database\n",
    "insert_data(etl_bites_conn_string, 'total_bookings', bookings_df, ['FacilityID', 'FacilityName', 'NumberOfBookings'])"
   ]
  }
 ],
 "metadata": {
  "kernelspec": {
   "display_name": "etl_bites_venv",
   "language": "python",
   "name": "python3"
  },
  "language_info": {
   "codemirror_mode": {
    "name": "ipython",
    "version": 3
   },
   "file_extension": ".py",
   "mimetype": "text/x-python",
   "name": "python",
   "nbconvert_exporter": "python",
   "pygments_lexer": "ipython3",
   "version": "3.11.6"
  }
 },
 "nbformat": 4,
 "nbformat_minor": 2
}
