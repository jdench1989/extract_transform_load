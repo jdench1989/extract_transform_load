{
 "cells": [
  {
   "cell_type": "code",
   "execution_count": 22,
   "metadata": {},
   "outputs": [],
   "source": [
    "import psycopg2\n",
    "import pandas as pd\n",
    "\n",
    "# The connection details (user, password, host) below are placeholders.\n",
    "# Your coach will provide you with the actual connection details for your exercises.\n",
    "\n",
    "conn_params = {\n",
    "    'host': 'etl-relational-database.cfmnnswnfhpn.eu-west-2.rds.amazonaws.com',\n",
    "    'dbname': 'postgres',\n",
    "    'user': 'readonly_user',\n",
    "    'password': 'you-can-only-read'\n",
    "}"
   ]
  },
  {
   "cell_type": "code",
   "execution_count": 23,
   "metadata": {},
   "outputs": [],
   "source": [
    "def fetch_data(query):\n",
    "    with psycopg2.connect(**conn_params) as conn:\n",
    "        with conn.cursor() as cur:\n",
    "            cur.execute(query)\n",
    "            data = cur.fetchall()\n",
    "            colnames = [desc[0] for desc in cur.description]\n",
    "    return data, colnames"
   ]
  },
  {
   "cell_type": "code",
   "execution_count": 24,
   "metadata": {},
   "outputs": [],
   "source": [
    "# Extract bookings data\n",
    "query = \"SELECT facid, slots FROM bookings;\"\n",
    "bookings_data, colnames = fetch_data(query)\n",
    "bookings_df = pd.DataFrame(bookings_data, columns=colnames)\n",
    "\n",
    "# Transform data: Calculate total booking duration per facility\n",
    "# Assuming each slot represents 30 minutes of booking time\n",
    "bookings_df['booking_duration'] = bookings_df['slots'] * 30  # Convert slots to minutes\n",
    "total_duration_per_facility = bookings_df.groupby('facid')['booking_duration'].sum().reset_index()\n",
    "total_duration_per_facility.columns = ['FacilityID', 'TotalBookingDurationInMinutes']"
   ]
  },
  {
   "cell_type": "code",
   "execution_count": 25,
   "metadata": {},
   "outputs": [],
   "source": [
    "etl_bites_conn_string = \"host='localhost' port='5432' dbname='etl_bites' user='jackdench' \""
   ]
  },
  {
   "cell_type": "code",
   "execution_count": 26,
   "metadata": {},
   "outputs": [],
   "source": [
    "def execute_query_postgresql(conn_string, query):\n",
    "    with psycopg2.connect(conn_string) as conn:\n",
    "        with conn.cursor() as cur:\n",
    "            cur.execute(query)\n",
    "            conn.commit()\n",
    "\n",
    "# Define the connection string for your analytical database\n",
    "etl_bites_conn_string = \"dbname='etl_bites' user='jackdench' host='localhost' port='5432'\"\n",
    "\n",
    "# SQL query to create a new table for storing total booking duration per facility\n",
    "create_total_duration_table = '''\n",
    "CREATE TABLE total_booking_duration (\n",
    "    FacilityID INTEGER NOT NULL,\n",
    "    TotalBookingDurationInMinutes INTEGER NOT NULL\n",
    ");\n",
    "'''\n",
    "\n",
    "# Execute the query to create the table\n",
    "execute_query_postgresql(etl_bites_conn_string, create_total_duration_table)"
   ]
  },
  {
   "cell_type": "code",
   "execution_count": 27,
   "metadata": {},
   "outputs": [],
   "source": [
    "def insert_data(conn_string, table_name, data, columns):\n",
    "    with psycopg2.connect(conn_string) as conn:\n",
    "        with conn.cursor() as cur:\n",
    "            for row in data.itertuples(index=False):\n",
    "                insert_query = f\"INSERT INTO {table_name} ({', '.join(columns)}) VALUES ({', '.join(['%s'] * len(columns))});\"\n",
    "                cur.execute(insert_query, row)\n",
    "            conn.commit()\n",
    "\n",
    "# Insert the transformed data into the analytical database\n",
    "insert_data(etl_bites_conn_string, 'total_booking_duration', total_duration_per_facility, ['FacilityID', 'TotalBookingDurationInMinutes'])"
   ]
  }
 ],
 "metadata": {
  "kernelspec": {
   "display_name": "etl_bites_venv",
   "language": "python",
   "name": "python3"
  },
  "language_info": {
   "codemirror_mode": {
    "name": "ipython",
    "version": 3
   },
   "file_extension": ".py",
   "mimetype": "text/x-python",
   "name": "python",
   "nbconvert_exporter": "python",
   "pygments_lexer": "ipython3",
   "version": "3.11.6"
  }
 },
 "nbformat": 4,
 "nbformat_minor": 2
}
