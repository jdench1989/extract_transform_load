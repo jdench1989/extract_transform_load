{
 "cells": [
  {
   "cell_type": "code",
   "execution_count": 2,
   "metadata": {},
   "outputs": [],
   "source": [
    "import boto3\n",
    "import botocore\n",
    "import csv\n",
    "from io import StringIO\n",
    "import psycopg2"
   ]
  },
  {
   "cell_type": "code",
   "execution_count": 3,
   "metadata": {},
   "outputs": [],
   "source": [
    "def download_csv_from_s3(bucket_name, object_key):\n",
    "    s3 = boto3.client('s3', config=botocore.config.Config(signature_version=botocore.UNSIGNED))\n",
    "    response = s3.get_object(Bucket=bucket_name, Key=object_key)\n",
    "    content = response['Body'].read().decode('utf-8')\n",
    "\n",
    "    # Process header row to remove leading and trailing spaces\n",
    "    header, rows = content.split(\"\\n\", 1)\n",
    "    cleaned_header = \",\".join(column.strip() for column in header.split(\",\"))\n",
    "\n",
    "    # Return cleaned content\n",
    "    return cleaned_header + \"\\n\" + rows\n",
    "\n",
    "titanic_csv_content = download_csv_from_s3('data-eng-makers-public-datasets-404544469985', 'etl_bites_04_titanic_dataset.csv')"
   ]
  },
  {
   "cell_type": "code",
   "execution_count": 4,
   "metadata": {},
   "outputs": [],
   "source": [
    "def calculate_average_fare(titanic_data, pclass_filter):\n",
    "    total_fare = 0\n",
    "    passengers_count = 0\n",
    "\n",
    "    for row in titanic_data:\n",
    "        if row['Pclass'] == str(pclass_filter):\n",
    "            total_fare += float(row['Fare'])\n",
    "            passengers_count += 1\n",
    "\n",
    "    return total_fare / passengers_count if passengers_count > 0 else 0\n",
    "\n",
    "average_fare_class_1 = calculate_average_fare(csv.DictReader(StringIO(titanic_csv_content)), 1)"
   ]
  },
  {
   "cell_type": "code",
   "execution_count": null,
   "metadata": {},
   "outputs": [],
   "source": [
    "CREATE TABLE class_average_fares (\n",
    "    id SERIAL PRIMARY KEY,\n",
    "    pclass INTEGER NOT NULL,\n",
    "    average_fare NUMERIC(10, 2) NOT NULL\n",
    ");"
   ]
  },
  {
   "cell_type": "markdown",
   "metadata": {},
   "source": [
    "In previous bites, we created the table from within the Python script, and that is still perfectly possible here. However, I wanted to show you that there are other ways.\n",
    "\n",
    "To execute the query, you can choose from some different options. I just decided to open TablePlus and within the SQL execution section, just run that query to create the table."
   ]
  },
  {
   "cell_type": "code",
   "execution_count": 6,
   "metadata": {},
   "outputs": [],
   "source": [
    "def insert_data_to_postgresql(data, connection):\n",
    "    cursor = connection.cursor()\n",
    "    query = \"INSERT INTO class_average_fares (pclass, average_fare) VALUES (%s, %s)\"\n",
    "    cursor.execute(query, data)\n",
    "    connection.commit()\n",
    "\n",
    "etl_bites_conn_string = \"host='localhost' port='5432' dbname='etl_bites' user='jackdench'\"\n",
    "conn = psycopg2.connect(etl_bites_conn_string)\n",
    "\n",
    "insert_data_to_postgresql((1, average_fare_class_1), conn)"
   ]
  }
 ],
 "metadata": {
  "kernelspec": {
   "display_name": "etl_bites_venv",
   "language": "python",
   "name": "python3"
  },
  "language_info": {
   "codemirror_mode": {
    "name": "ipython",
    "version": 3
   },
   "file_extension": ".py",
   "mimetype": "text/x-python",
   "name": "python",
   "nbconvert_exporter": "python",
   "pygments_lexer": "ipython3",
   "version": "3.11.6"
  }
 },
 "nbformat": 4,
 "nbformat_minor": 2
}
