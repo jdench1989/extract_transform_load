{
 "cells": [
  {
   "cell_type": "markdown",
   "metadata": {},
   "source": [
    "## Exercise\n",
    "\n",
    "Calculate the survival rate for passengers in the 2nd class from the Titanic\n",
    "dataset.\n",
    "\n",
    "Create a new table class_survival_rate in the local PostgreSQL database and\n",
    "insert the calculated survival rate into this table.\n"
   ]
  },
  {
   "cell_type": "code",
   "execution_count": 8,
   "metadata": {},
   "outputs": [],
   "source": [
    "import boto3\n",
    "import botocore\n",
    "import csv\n",
    "from io import StringIO\n",
    "import psycopg2"
   ]
  },
  {
   "cell_type": "code",
   "execution_count": 4,
   "metadata": {},
   "outputs": [],
   "source": [
    "def download_csv_from_s3(bucket_name, object_key):\n",
    "    s3 = boto3.client('s3', config=botocore.config.Config(signature_version=botocore.UNSIGNED))\n",
    "    response = s3.get_object(Bucket=bucket_name, Key=object_key)\n",
    "    content = response['Body'].read().decode('utf-8')\n",
    "\n",
    "    # Process header row to remove leading and trailing spaces\n",
    "    header, rows = content.split(\"\\n\", 1)\n",
    "    cleaned_header = \",\".join(column.strip() for column in header.split(\",\"))\n",
    "\n",
    "    # Return cleaned content\n",
    "    return cleaned_header + \"\\n\" + rows\n",
    "\n",
    "titanic_csv_content = download_csv_from_s3('data-eng-makers-public-datasets-404544469985', 'etl_bites_04_titanic_dataset.csv')"
   ]
  },
  {
   "cell_type": "code",
   "execution_count": 16,
   "metadata": {},
   "outputs": [],
   "source": [
    "def calculate_survival_rate(titanic_data, pclass_filter):\n",
    "    count_class_survivors = 0\n",
    "    count_class_total = 0\n",
    "    for row in titanic_data:\n",
    "        if row['Pclass'] == str(pclass_filter):\n",
    "            count_class_total +=1\n",
    "            if row['Survived'] == str(1):\n",
    "                count_class_survivors +=1\n",
    "    class_survival_rate = round(((count_class_survivors/count_class_total)*100), 2)\n",
    "    return class_survival_rate"
   ]
  },
  {
   "cell_type": "code",
   "execution_count": 27,
   "metadata": {},
   "outputs": [],
   "source": [
    "passenger_class = 3\n",
    "class_survival_rate = calculate_survival_rate(csv.DictReader(StringIO(titanic_csv_content)), passenger_class)"
   ]
  },
  {
   "cell_type": "code",
   "execution_count": null,
   "metadata": {},
   "outputs": [],
   "source": [
    "CREATE TABLE class_survival_rates (\n",
    "    id SERIAL PRIMARY KEY,\n",
    "    pclass INTEGER NOT NULL,\n",
    "    survival_rate FLOAT NOT NULL\n",
    ");\n",
    "# Table created through direct SQL command in TablePlus rather than Python script for the sake of variety"
   ]
  },
  {
   "cell_type": "code",
   "execution_count": 28,
   "metadata": {},
   "outputs": [],
   "source": [
    "def insert_data_to_postgresql(data, connection):\n",
    "    cursor = connection.cursor()\n",
    "    query = \"INSERT INTO class_survival_rates (pclass, survival_rate) VALUES (%s, %s)\"\n",
    "    cursor.execute(query, data)\n",
    "    connection.commit()\n",
    "\n",
    "etl_bites_conn_string = \"host='localhost' port='5432' dbname='etl_bites' user='jackdench'\"\n",
    "conn = psycopg2.connect(etl_bites_conn_string)\n",
    "\n",
    "insert_data_to_postgresql((passenger_class, class_survival_rate), conn)"
   ]
  }
 ],
 "metadata": {
  "kernelspec": {
   "display_name": "etl_bites_venv",
   "language": "python",
   "name": "python3"
  },
  "language_info": {
   "codemirror_mode": {
    "name": "ipython",
    "version": 3
   },
   "file_extension": ".py",
   "mimetype": "text/x-python",
   "name": "python",
   "nbconvert_exporter": "python",
   "pygments_lexer": "ipython3",
   "version": "3.11.6"
  }
 },
 "nbformat": 4,
 "nbformat_minor": 2
}
