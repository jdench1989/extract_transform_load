{
 "cells": [
  {
   "cell_type": "markdown",
   "metadata": {},
   "source": [
    "## Challenge\n",
    "\n",
    "The `JSONPlaceholder` API does not support pagination out of the box, but you could\n",
    "simulate pagination by slicing the results you receive from the API (e.g.\n",
    "limiting the page size to X number of posts.)\n",
    "\n",
    "However that would not be a great challenge as it is not something you would\n",
    "typically do this way. It is a useful exercise though if you'd like to give it a\n",
    "go at some point to play with some Python algorithms!\n",
    "\n",
    "We will use an alternative API, the GitHub API, which supports true pagination\n",
    "through query parameters.\n",
    "\n",
    "**Extract all repositories from the GitHub API for a specific user, and\n",
    "calculate the total number of stars they received. Use pagination when fetching\n",
    "the data from the API. Load the result into a new table in the local PostgreSQL\n",
    "database.**\n",
    "\n",
    "<details>\n",
    "  <summary>Hint!</summary>\n",
    "\n",
    "  To fetch paginated data from the GitHub API, use the page and per_page query\n",
    "  parameters in the API request.\n",
    "  \n",
    "  <details>\n",
    "    <summary>Another hint!</summary>\n",
    "\n",
    "    Loop through the pages until there are no more repositories to fetch. Sum the\n",
    "    stargazers_count attribute for all repositories to calculate the total number\n",
    "    of stars. Load the results into a new table in the local PostgreSQL database.\n",
    "  </details>\n",
    "</details>\n"
   ]
  },
  {
   "cell_type": "code",
   "execution_count": 35,
   "metadata": {},
   "outputs": [],
   "source": [
    "import requests\n",
    "from psycopg2 import connect, sql\n",
    "\n",
    "# Configure your PostgreSQL connection string\n",
    "conn_string = \"dbname='etl_bites' user='jackdench' host='localhost' port='5432'\"\n",
    "\n",
    "# The initial URL sets the number of repos per page to 50 and requests the first page\n",
    "repos_url = \"https://api.github.com/users/makersacademy/repos?page=1&per_page=50\"\n",
    "\n",
    "def get_data_from_api(url):\n",
    "    repo_data = []\n",
    "    while url:\n",
    "        # Request API data, convert result to JSON format and then add each JSON item to the repo_data list\n",
    "        result = requests.get(url)\n",
    "        json_data = result.json()\n",
    "        repo_data.extend(json_data)\n",
    "        # Check if there's a 'Link' header for pagination\n",
    "        if 'Link' in result.headers:\n",
    "            links = result.headers['Link'].split(', ')\n",
    "            next_page_url = None\n",
    "            for link in links:\n",
    "                if 'rel=\"next\"' in link:\n",
    "                    next_page_url = link.split('; ')[0][1:-1]\n",
    "                    break\n",
    "            \n",
    "            # Update the URL for the next page, if available\n",
    "            url = next_page_url\n",
    "        else:\n",
    "            # If there's no 'Link' header, end the loop\n",
    "            url = None\n",
    "    \n",
    "    return repo_data\n",
    "\n",
    "repo_data = get_data_from_api(repos_url)\n",
    "\n"
   ]
  },
  {
   "cell_type": "code",
   "execution_count": 36,
   "metadata": {},
   "outputs": [],
   "source": [
    "# Function to count the total number of stars across all repos for this user\n",
    "def count_stars(data):\n",
    "    stars_count = 0\n",
    "    for repo in data:\n",
    "        repo_stars = repo['stargazers_count']\n",
    "        stars_count += repo_stars\n",
    "    return stars_count"
   ]
  },
  {
   "cell_type": "code",
   "execution_count": 37,
   "metadata": {},
   "outputs": [],
   "source": [
    "# Create tables in analytical DB\n",
    "# This could also be done manually via a GUI (e.g. TablePlus) or with a SQL script\n",
    "def execute_query_postgresql(conn_string, query):\n",
    "    with connect(conn_string) as conn:\n",
    "        with conn.cursor() as cur:\n",
    "            cur.execute(query)\n",
    "            conn.commit()\n",
    "\n",
    "create_api_data_table = '''\n",
    "CREATE TABLE IF NOT EXISTS repo_stars_count (\n",
    "    owner_name TEXT,\n",
    "    repo_count INTEGER,\n",
    "    repo_stars_count INTEGER\n",
    ");\n",
    "'''\n",
    "\n",
    "execute_query_postgresql(conn_string, create_api_data_table)"
   ]
  },
  {
   "cell_type": "code",
   "execution_count": 38,
   "metadata": {},
   "outputs": [],
   "source": [
    "def insert_data_to_postgresql(conn_string, table_data):\n",
    "    with connect(conn_string) as conn:\n",
    "        with conn.cursor() as cur:\n",
    "            query = sql.SQL(\"INSERT INTO {} (owner_name, repo_count, repo_stars_count) VALUES (%s, %s, %s)\").format(sql.Identifier(table_data['table_name']))\n",
    "            cur.execute(query, (table_data['owner_name'], table_data['repo_count'], table_data['star_count']))\n",
    "        conn.commit()\n",
    "\n",
    "table_name = 'repo_stars_count'\n",
    "owner_name = repo_data[0]['owner']['login']\n",
    "repo_count = len(repo_data)\n",
    "star_count = count_stars(repo_data)\n",
    "table_data = {'table_name': table_name, 'owner_name': owner_name, 'repo_count': repo_count, 'star_count': star_count}\n",
    "insert_data_to_postgresql(conn_string, table_data)"
   ]
  }
 ],
 "metadata": {
  "kernelspec": {
   "display_name": "etl_bites_venv",
   "language": "python",
   "name": "python3"
  },
  "language_info": {
   "codemirror_mode": {
    "name": "ipython",
    "version": 3
   },
   "file_extension": ".py",
   "mimetype": "text/x-python",
   "name": "python",
   "nbconvert_exporter": "python",
   "pygments_lexer": "ipython3",
   "version": "3.11.6"
  }
 },
 "nbformat": 4,
 "nbformat_minor": 2
}
